{
 "cells": [
  {
   "cell_type": "markdown",
   "metadata": {},
   "source": [
    "## Pandas Data-structures"
   ]
  },
  {
   "cell_type": "markdown",
   "metadata": {},
   "source": [
    "Pandas Datastructures:\n",
    "               1. Series\n",
    "               2. DataFrame\n",
    "               3. Panel"
   ]
  },
  {
   "cell_type": "markdown",
   "metadata": {},
   "source": [
    "### Series"
   ]
  },
  {
   "cell_type": "markdown",
   "metadata": {},
   "source": [
    "<dl>\n",
    "  <dd>Series is a one-dimensional labeled array capable of holding any data type (integers, strings, floating point numbers, Python objects, etc.). The axis labels are collectively referred to as the index.</dd>\n",
    "</dl>\n",
    "<dl>\n",
    "  <dt>* Syntax</dt>\n",
    "</dl>\n",
    "```python\n",
    "        s = pd.Series(data, index=index)\n",
    "        print(s)\n",
    "```\n",
    "\n",
    "Here, data can be many different things:\n",
    "* a Python dict\n",
    "* an ndarray\n",
    "* a scalar value"
   ]
  },
  {
   "cell_type": "markdown",
   "metadata": {},
   "source": [
    "<img src=\"images/Slide2.png\" height=\"1000\" width=\"1000\">"
   ]
  },
  {
   "cell_type": "markdown",
   "metadata": {},
   "source": [
    "<dl>\n",
    "  <dt>* Structure</dt>\n",
    "</dl>\n",
    "\n",
    "Index | Value\n",
    "--- | ---\n",
    "*Red* | `7`\n",
    "*Green* | `3`\n",
    "*Blue* | `2`\n",
    "*Yellow* | `4`\n",
    "*Black* | `5`"
   ]
  },
  {
   "cell_type": "code",
   "execution_count": 4,
   "metadata": {
    "collapsed": true
   },
   "outputs": [],
   "source": [
    "import numpy as np\n",
    "import pandas as pd"
   ]
  },
  {
   "cell_type": "code",
   "execution_count": 8,
   "metadata": {
    "collapsed": true
   },
   "outputs": [],
   "source": [
    "mylist = [7,3,2,4,5]"
   ]
  },
  {
   "cell_type": "code",
   "execution_count": 9,
   "metadata": {},
   "outputs": [
    {
     "data": {
      "text/plain": [
       "0    7\n",
       "1    3\n",
       "2    2\n",
       "3    4\n",
       "4    5\n",
       "dtype: int64"
      ]
     },
     "execution_count": 9,
     "metadata": {},
     "output_type": "execute_result"
    }
   ],
   "source": [
    "pd.Series(mylist)"
   ]
  },
  {
   "cell_type": "code",
   "execution_count": 10,
   "metadata": {
    "collapsed": true
   },
   "outputs": [],
   "source": [
    "my_index = ['Red', 'Green', 'Blue', 'Yellow', 'Black']"
   ]
  },
  {
   "cell_type": "code",
   "execution_count": 11,
   "metadata": {},
   "outputs": [
    {
     "data": {
      "text/plain": [
       "Red       7\n",
       "Green     3\n",
       "Blue      2\n",
       "Yellow    4\n",
       "Black     5\n",
       "dtype: int64"
      ]
     },
     "execution_count": 11,
     "metadata": {},
     "output_type": "execute_result"
    }
   ],
   "source": [
    "pd.Series(mylist,my_index)"
   ]
  },
  {
   "cell_type": "markdown",
   "metadata": {},
   "source": [
    "#### Using numpy arrays"
   ]
  },
  {
   "cell_type": "code",
   "execution_count": 52,
   "metadata": {
    "collapsed": true
   },
   "outputs": [],
   "source": [
    "arr = np.random.randint(1000,1500,7)"
   ]
  },
  {
   "cell_type": "code",
   "execution_count": 53,
   "metadata": {},
   "outputs": [
    {
     "data": {
      "text/plain": [
       "array([1157, 1403, 1414, 1485, 1110, 1291, 1015])"
      ]
     },
     "execution_count": 53,
     "metadata": {},
     "output_type": "execute_result"
    }
   ],
   "source": [
    "arr"
   ]
  },
  {
   "cell_type": "code",
   "execution_count": 54,
   "metadata": {},
   "outputs": [
    {
     "data": {
      "text/plain": [
       "0    1157\n",
       "1    1403\n",
       "2    1414\n",
       "3    1485\n",
       "4    1110\n",
       "5    1291\n",
       "6    1015\n",
       "dtype: int32"
      ]
     },
     "execution_count": 54,
     "metadata": {},
     "output_type": "execute_result"
    }
   ],
   "source": [
    "pd.Series(arr)"
   ]
  },
  {
   "cell_type": "code",
   "execution_count": 55,
   "metadata": {
    "collapsed": true
   },
   "outputs": [],
   "source": [
    "my_index = 'Sunday Monday Tuesday Wednessday Thursday Friday Saturday'.split(' ')"
   ]
  },
  {
   "cell_type": "code",
   "execution_count": 56,
   "metadata": {},
   "outputs": [
    {
     "data": {
      "text/plain": [
       "Sunday        1157\n",
       "Monday        1403\n",
       "Tuesday       1414\n",
       "Wednessday    1485\n",
       "Thursday      1110\n",
       "Friday        1291\n",
       "Saturday      1015\n",
       "dtype: int32"
      ]
     },
     "execution_count": 56,
     "metadata": {},
     "output_type": "execute_result"
    }
   ],
   "source": [
    "pd.Series(arr, my_index)"
   ]
  },
  {
   "cell_type": "markdown",
   "metadata": {},
   "source": [
    "#### Using Dictionaries"
   ]
  },
  {
   "cell_type": "code",
   "execution_count": 59,
   "metadata": {
    "collapsed": true
   },
   "outputs": [],
   "source": [
    "dictn = {'rainbow':1,'mac':5,'fun':3, 'audio':7, 'video':8}"
   ]
  },
  {
   "cell_type": "code",
   "execution_count": 60,
   "metadata": {
    "scrolled": true
   },
   "outputs": [
    {
     "data": {
      "text/plain": [
       "audio      7\n",
       "fun        3\n",
       "mac        5\n",
       "rainbow    1\n",
       "video      8\n",
       "dtype: int64"
      ]
     },
     "execution_count": 60,
     "metadata": {},
     "output_type": "execute_result"
    }
   ],
   "source": [
    "pd.Series(dictn)"
   ]
  },
  {
   "cell_type": "markdown",
   "metadata": {},
   "source": [
    "___"
   ]
  },
  {
   "cell_type": "markdown",
   "metadata": {},
   "source": [
    "### Dataframe"
   ]
  },
  {
   "cell_type": "markdown",
   "metadata": {},
   "source": [
    "<dl>\n",
    "  <dd>DataFrame is a 2-dimensional labeled data structure with columns of potentially different types.</dd>\n",
    "</dl>"
   ]
  },
  {
   "cell_type": "markdown",
   "metadata": {},
   "source": [
    "<img src=\"images/Slide3.png\" height=\"1000\" width=\"1000\">"
   ]
  },
  {
   "cell_type": "markdown",
   "metadata": {},
   "source": [
    "<dl>\n",
    "  <dt>* Syntax</dt>\n",
    "</dl>\n",
    "```python\n",
    "s = pd.DataFrame(data, index=index, columns=columns)\n",
    "print(s)\n",
    "```\n",
    "\n",
    "Here, data can be many different things:\n",
    "* Dict of 1D ndarrays, lists, dicts, or Series\n",
    "* 2-D numpy.ndarray"
   ]
  },
  {
   "cell_type": "markdown",
   "metadata": {},
   "source": [
    "#### From Series"
   ]
  },
  {
   "cell_type": "code",
   "execution_count": 65,
   "metadata": {},
   "outputs": [
    {
     "data": {
      "text/html": [
       "<div>\n",
       "<style>\n",
       "    .dataframe thead tr:only-child th {\n",
       "        text-align: right;\n",
       "    }\n",
       "\n",
       "    .dataframe thead th {\n",
       "        text-align: left;\n",
       "    }\n",
       "\n",
       "    .dataframe tbody tr th {\n",
       "        vertical-align: top;\n",
       "    }\n",
       "</style>\n",
       "<table border=\"1\" class=\"dataframe\">\n",
       "  <thead>\n",
       "    <tr style=\"text-align: right;\">\n",
       "      <th></th>\n",
       "      <th>Day_1</th>\n",
       "      <th>Day_2</th>\n",
       "    </tr>\n",
       "  </thead>\n",
       "  <tbody>\n",
       "    <tr>\n",
       "      <th>Google</th>\n",
       "      <td>1456</td>\n",
       "      <td>1166</td>\n",
       "    </tr>\n",
       "    <tr>\n",
       "      <th>Amazon</th>\n",
       "      <td>1480</td>\n",
       "      <td>1354</td>\n",
       "    </tr>\n",
       "    <tr>\n",
       "      <th>Facebook</th>\n",
       "      <td>1379</td>\n",
       "      <td>1124</td>\n",
       "    </tr>\n",
       "    <tr>\n",
       "      <th>Microsoft</th>\n",
       "      <td>1193</td>\n",
       "      <td>1363</td>\n",
       "    </tr>\n",
       "    <tr>\n",
       "      <th>Ebay</th>\n",
       "      <td>1113</td>\n",
       "      <td>1454</td>\n",
       "    </tr>\n",
       "  </tbody>\n",
       "</table>\n",
       "</div>"
      ],
      "text/plain": [
       "           Day_1  Day_2\n",
       "Google      1456   1166\n",
       "Amazon      1480   1354\n",
       "Facebook    1379   1124\n",
       "Microsoft   1193   1363\n",
       "Ebay        1113   1454"
      ]
     },
     "execution_count": 65,
     "metadata": {},
     "output_type": "execute_result"
    }
   ],
   "source": [
    "series1 = pd.Series(data=np.random.randint(1000,1500,5), index=['Google','Amazon','Facebook','Microsoft','Ebay'])\n",
    "series2 = pd.Series(data=np.random.randint(1000,1500,5), index=['Google','Amazon','Facebook','Microsoft','Ebay'])\n",
    "pd.DataFrame({'Day_1': series1, 'Day_2': series2})"
   ]
  },
  {
   "cell_type": "markdown",
   "metadata": {},
   "source": [
    "#### From NDarrays"
   ]
  },
  {
   "cell_type": "code",
   "execution_count": 82,
   "metadata": {},
   "outputs": [
    {
     "data": {
      "text/html": [
       "<div>\n",
       "<style>\n",
       "    .dataframe thead tr:only-child th {\n",
       "        text-align: right;\n",
       "    }\n",
       "\n",
       "    .dataframe thead th {\n",
       "        text-align: left;\n",
       "    }\n",
       "\n",
       "    .dataframe tbody tr th {\n",
       "        vertical-align: top;\n",
       "    }\n",
       "</style>\n",
       "<table border=\"1\" class=\"dataframe\">\n",
       "  <thead>\n",
       "    <tr style=\"text-align: right;\">\n",
       "      <th></th>\n",
       "      <th>Sunday</th>\n",
       "      <th>Monday</th>\n",
       "      <th>Tuesday</th>\n",
       "      <th>Wednessday</th>\n",
       "      <th>Thursday</th>\n",
       "      <th>Friday</th>\n",
       "      <th>Saturday</th>\n",
       "    </tr>\n",
       "  </thead>\n",
       "  <tbody>\n",
       "    <tr>\n",
       "      <th>NewYork</th>\n",
       "      <td>9.082423</td>\n",
       "      <td>296.708789</td>\n",
       "      <td>361.415522</td>\n",
       "      <td>272.655246</td>\n",
       "      <td>395.963226</td>\n",
       "      <td>226.498004</td>\n",
       "      <td>332.134289</td>\n",
       "    </tr>\n",
       "    <tr>\n",
       "      <th>Tokyo</th>\n",
       "      <td>235.437076</td>\n",
       "      <td>361.931697</td>\n",
       "      <td>378.558367</td>\n",
       "      <td>192.297259</td>\n",
       "      <td>228.260638</td>\n",
       "      <td>134.441757</td>\n",
       "      <td>56.405364</td>\n",
       "    </tr>\n",
       "    <tr>\n",
       "      <th>Paris</th>\n",
       "      <td>298.741307</td>\n",
       "      <td>125.292707</td>\n",
       "      <td>386.320496</td>\n",
       "      <td>395.354638</td>\n",
       "      <td>14.478222</td>\n",
       "      <td>152.534045</td>\n",
       "      <td>102.278080</td>\n",
       "    </tr>\n",
       "    <tr>\n",
       "      <th>Moscow</th>\n",
       "      <td>90.179699</td>\n",
       "      <td>316.604213</td>\n",
       "      <td>89.804690</td>\n",
       "      <td>88.319599</td>\n",
       "      <td>338.311262</td>\n",
       "      <td>214.086430</td>\n",
       "      <td>269.003178</td>\n",
       "    </tr>\n",
       "    <tr>\n",
       "      <th>Istanbul</th>\n",
       "      <td>282.972299</td>\n",
       "      <td>37.722770</td>\n",
       "      <td>375.604008</td>\n",
       "      <td>57.840125</td>\n",
       "      <td>146.907747</td>\n",
       "      <td>291.139514</td>\n",
       "      <td>178.493501</td>\n",
       "    </tr>\n",
       "    <tr>\n",
       "      <th>Rome</th>\n",
       "      <td>241.615323</td>\n",
       "      <td>127.795437</td>\n",
       "      <td>385.600535</td>\n",
       "      <td>370.314178</td>\n",
       "      <td>84.774256</td>\n",
       "      <td>317.081749</td>\n",
       "      <td>30.389371</td>\n",
       "    </tr>\n",
       "    <tr>\n",
       "      <th>Mumbai</th>\n",
       "      <td>35.853375</td>\n",
       "      <td>156.407595</td>\n",
       "      <td>259.593041</td>\n",
       "      <td>229.756541</td>\n",
       "      <td>348.365142</td>\n",
       "      <td>256.785636</td>\n",
       "      <td>234.584219</td>\n",
       "    </tr>\n",
       "    <tr>\n",
       "      <th>London</th>\n",
       "      <td>145.310800</td>\n",
       "      <td>152.478980</td>\n",
       "      <td>244.384054</td>\n",
       "      <td>368.090418</td>\n",
       "      <td>52.685406</td>\n",
       "      <td>375.374775</td>\n",
       "      <td>195.808325</td>\n",
       "    </tr>\n",
       "    <tr>\n",
       "      <th>Sydney</th>\n",
       "      <td>240.561425</td>\n",
       "      <td>224.518743</td>\n",
       "      <td>145.880247</td>\n",
       "      <td>365.883615</td>\n",
       "      <td>309.040036</td>\n",
       "      <td>318.826750</td>\n",
       "      <td>80.082356</td>\n",
       "    </tr>\n",
       "    <tr>\n",
       "      <th>CapeTown</th>\n",
       "      <td>305.181956</td>\n",
       "      <td>86.206888</td>\n",
       "      <td>136.164149</td>\n",
       "      <td>232.633483</td>\n",
       "      <td>369.783345</td>\n",
       "      <td>193.296151</td>\n",
       "      <td>147.887403</td>\n",
       "    </tr>\n",
       "  </tbody>\n",
       "</table>\n",
       "</div>"
      ],
      "text/plain": [
       "              Sunday      Monday     Tuesday  Wednessday    Thursday  \\\n",
       "NewYork     9.082423  296.708789  361.415522  272.655246  395.963226   \n",
       "Tokyo     235.437076  361.931697  378.558367  192.297259  228.260638   \n",
       "Paris     298.741307  125.292707  386.320496  395.354638   14.478222   \n",
       "Moscow     90.179699  316.604213   89.804690   88.319599  338.311262   \n",
       "Istanbul  282.972299   37.722770  375.604008   57.840125  146.907747   \n",
       "Rome      241.615323  127.795437  385.600535  370.314178   84.774256   \n",
       "Mumbai     35.853375  156.407595  259.593041  229.756541  348.365142   \n",
       "London    145.310800  152.478980  244.384054  368.090418   52.685406   \n",
       "Sydney    240.561425  224.518743  145.880247  365.883615  309.040036   \n",
       "CapeTown  305.181956   86.206888  136.164149  232.633483  369.783345   \n",
       "\n",
       "              Friday    Saturday  \n",
       "NewYork   226.498004  332.134289  \n",
       "Tokyo     134.441757   56.405364  \n",
       "Paris     152.534045  102.278080  \n",
       "Moscow    214.086430  269.003178  \n",
       "Istanbul  291.139514  178.493501  \n",
       "Rome      317.081749   30.389371  \n",
       "Mumbai    256.785636  234.584219  \n",
       "London    375.374775  195.808325  \n",
       "Sydney    318.826750   80.082356  \n",
       "CapeTown  193.296151  147.887403  "
      ]
     },
     "execution_count": 82,
     "metadata": {},
     "output_type": "execute_result"
    }
   ],
   "source": [
    "df = pd.DataFrame(data=np.random.rand(10,7)*400, \n",
    "             columns=['Sunday','Monday','Tuesday','Wednessday','Thursday','Friday','Saturday'], \n",
    "             index=['NewYork','Tokyo','Paris','Moscow','Istanbul','Rome','Mumbai','London','Sydney','CapeTown'])\n",
    "df"
   ]
  },
  {
   "cell_type": "code",
   "execution_count": null,
   "metadata": {
    "collapsed": true
   },
   "outputs": [],
   "source": []
  }
 ],
 "metadata": {
  "kernelspec": {
   "display_name": "Python 3",
   "language": "python",
   "name": "python3"
  },
  "language_info": {
   "codemirror_mode": {
    "name": "ipython",
    "version": 3
   },
   "file_extension": ".py",
   "mimetype": "text/x-python",
   "name": "python",
   "nbconvert_exporter": "python",
   "pygments_lexer": "ipython3",
   "version": "3.5.4"
  }
 },
 "nbformat": 4,
 "nbformat_minor": 2
}
