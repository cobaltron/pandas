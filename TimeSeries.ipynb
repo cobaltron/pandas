{
 "cells": [
  {
   "cell_type": "code",
   "execution_count": 1,
   "metadata": {
    "collapsed": true
   },
   "outputs": [],
   "source": [
    "import numpy as np\n",
    "import pandas as pd"
   ]
  },
  {
   "cell_type": "markdown",
   "metadata": {},
   "source": [
    "pandas has proven very successful as a tool for working with time series data, especially in the financial data analysis space. Using the NumPy datetime64 and timedelta64 dtypes, we have consolidated a large number of features from other Python libraries like scikits.timeseries as well as created a tremendous amount of new functionality for manipulating time series data."
   ]
  },
  {
   "cell_type": "code",
   "execution_count": 23,
   "metadata": {
    "collapsed": true
   },
   "outputs": [],
   "source": [
    "time_range = pd.date_range('1/1/2012', periods=72, freq='H')"
   ]
  },
  {
   "cell_type": "code",
   "execution_count": 7,
   "metadata": {
    "collapsed": true
   },
   "outputs": [],
   "source": [
    "ts = pd.Series(np.random.randn(len(time_range)), index=time_range)"
   ]
  },
  {
   "cell_type": "code",
   "execution_count": 9,
   "metadata": {},
   "outputs": [
    {
     "data": {
      "text/plain": [
       "2011-01-01 00:00:00   -2.141148\n",
       "2011-01-01 01:00:00   -0.765947\n",
       "2011-01-01 02:00:00   -0.024809\n",
       "2011-01-01 03:00:00   -0.836930\n",
       "2011-01-01 04:00:00   -0.315036\n",
       "Freq: H, dtype: float64"
      ]
     },
     "execution_count": 9,
     "metadata": {},
     "output_type": "execute_result"
    }
   ],
   "source": [
    "ts.head()"
   ]
  },
  {
   "cell_type": "markdown",
   "metadata": {},
   "source": [
    "#### Change frequency"
   ]
  },
  {
   "cell_type": "code",
   "execution_count": 12,
   "metadata": {},
   "outputs": [
    {
     "data": {
      "text/plain": [
       "2011-01-01 00:00:00   -2.141148\n",
       "2011-01-01 00:45:00   -2.141148\n",
       "2011-01-01 01:30:00   -0.765947\n",
       "2011-01-01 02:15:00   -0.024809\n",
       "2011-01-01 03:00:00   -0.836930\n",
       "2011-01-01 03:45:00   -0.836930\n",
       "2011-01-01 04:30:00   -0.315036\n",
       "2011-01-01 05:15:00    2.772628\n",
       "2011-01-01 06:00:00    0.771546\n",
       "2011-01-01 06:45:00    0.771546\n",
       "Freq: 45T, dtype: float64"
      ]
     },
     "execution_count": 12,
     "metadata": {},
     "output_type": "execute_result"
    }
   ],
   "source": [
    "ts.asfreq('45Min', method='pad').head(10)"
   ]
  },
  {
   "cell_type": "markdown",
   "metadata": {},
   "source": [
    "#### Resample"
   ]
  },
  {
   "cell_type": "code",
   "execution_count": 16,
   "metadata": {},
   "outputs": [
    {
     "data": {
      "text/plain": [
       "2011-01-01 00:00:00   -0.218540\n",
       "2011-01-01 06:00:00    0.196438\n",
       "2011-01-01 12:00:00   -0.251523\n",
       "2011-01-01 18:00:00   -0.213458\n",
       "2011-01-02 00:00:00    0.011866\n",
       "2011-01-02 06:00:00   -0.087204\n",
       "2011-01-02 12:00:00    0.074770\n",
       "2011-01-02 18:00:00    0.402413\n",
       "2011-01-03 00:00:00    0.435011\n",
       "2011-01-03 06:00:00   -0.141192\n",
       "2011-01-03 12:00:00   -0.244544\n",
       "2011-01-03 18:00:00   -0.062833\n",
       "Freq: 6H, dtype: float64"
      ]
     },
     "execution_count": 16,
     "metadata": {},
     "output_type": "execute_result"
    }
   ],
   "source": [
    "ts.resample('6H').mean()"
   ]
  },
  {
   "cell_type": "code",
   "execution_count": 24,
   "metadata": {},
   "outputs": [
    {
     "data": {
      "text/plain": [
       "array([1325376000000000000, 1325379600000000000, 1325383200000000000,\n",
       "       1325386800000000000, 1325390400000000000, 1325394000000000000,\n",
       "       1325397600000000000, 1325401200000000000, 1325404800000000000,\n",
       "       1325408400000000000, 1325412000000000000, 1325415600000000000,\n",
       "       1325419200000000000, 1325422800000000000, 1325426400000000000,\n",
       "       1325430000000000000, 1325433600000000000, 1325437200000000000,\n",
       "       1325440800000000000, 1325444400000000000, 1325448000000000000,\n",
       "       1325451600000000000, 1325455200000000000, 1325458800000000000,\n",
       "       1325462400000000000, 1325466000000000000, 1325469600000000000,\n",
       "       1325473200000000000, 1325476800000000000, 1325480400000000000,\n",
       "       1325484000000000000, 1325487600000000000, 1325491200000000000,\n",
       "       1325494800000000000, 1325498400000000000, 1325502000000000000,\n",
       "       1325505600000000000, 1325509200000000000, 1325512800000000000,\n",
       "       1325516400000000000, 1325520000000000000, 1325523600000000000,\n",
       "       1325527200000000000, 1325530800000000000, 1325534400000000000,\n",
       "       1325538000000000000, 1325541600000000000, 1325545200000000000,\n",
       "       1325548800000000000, 1325552400000000000, 1325556000000000000,\n",
       "       1325559600000000000, 1325563200000000000, 1325566800000000000,\n",
       "       1325570400000000000, 1325574000000000000, 1325577600000000000,\n",
       "       1325581200000000000, 1325584800000000000, 1325588400000000000,\n",
       "       1325592000000000000, 1325595600000000000, 1325599200000000000,\n",
       "       1325602800000000000, 1325606400000000000, 1325610000000000000,\n",
       "       1325613600000000000, 1325617200000000000, 1325620800000000000,\n",
       "       1325624400000000000, 1325628000000000000, 1325631600000000000], dtype=int64)"
      ]
     },
     "execution_count": 24,
     "metadata": {},
     "output_type": "execute_result"
    }
   ],
   "source": [
    "time_range.view('int64')"
   ]
  },
  {
   "cell_type": "code",
   "execution_count": 26,
   "metadata": {},
   "outputs": [
    {
     "data": {
      "text/plain": [
       "'hour'"
      ]
     },
     "execution_count": 26,
     "metadata": {},
     "output_type": "execute_result"
    }
   ],
   "source": [
    "ts.index.resolution"
   ]
  },
  {
   "cell_type": "code",
   "execution_count": null,
   "metadata": {
    "collapsed": true
   },
   "outputs": [],
   "source": []
  }
 ],
 "metadata": {
  "kernelspec": {
   "display_name": "Python 3",
   "language": "python",
   "name": "python3"
  },
  "language_info": {
   "codemirror_mode": {
    "name": "ipython",
    "version": 3
   },
   "file_extension": ".py",
   "mimetype": "text/x-python",
   "name": "python",
   "nbconvert_exporter": "python",
   "pygments_lexer": "ipython3",
   "version": "3.5.4"
  }
 },
 "nbformat": 4,
 "nbformat_minor": 2
}
